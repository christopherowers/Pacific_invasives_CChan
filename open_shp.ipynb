{
 "cells": [
  {
   "cell_type": "code",
   "execution_count": 2,
   "id": "5fc0bab5-fb58-449a-aa3e-df2a60940479",
   "metadata": {},
   "outputs": [],
   "source": [
    "import geopandas as gpd"
   ]
  },
  {
   "cell_type": "code",
   "execution_count": 3,
   "id": "e853f152-8724-4d79-b354-35c1cfdb6588",
   "metadata": {},
   "outputs": [],
   "source": [
    "path = './atulip.shp'"
   ]
  },
  {
   "cell_type": "code",
   "execution_count": 4,
   "id": "763d657c-1a9c-4d7a-9d7e-f020e71983c5",
   "metadata": {},
   "outputs": [],
   "source": [
    "input_data = gpd.read_file(path)"
   ]
  },
  {
   "cell_type": "code",
   "execution_count": 6,
   "id": "4d011bb9-0f8f-406d-a2ee-ec88fd68165c",
   "metadata": {},
   "outputs": [
    {
     "data": {
      "text/plain": [
       "<AxesSubplot:>"
      ]
     },
     "execution_count": 6,
     "metadata": {},
     "output_type": "execute_result"
    },
    {
     "data": {
      "image/png": "[encoded data removed]",
      "text/plain": [
       "<Figure size 432x288 with 1 Axes>"
      ]
     },
     "metadata": {
      "needs_background": "light"
     },
     "output_type": "display_data"
    }
   ],
   "source": [
    "input_data.plot()"
   ]
  },
  {
   "cell_type": "code",
   "execution_count": null,
   "id": "caa1ebb7-d47c-43d5-962c-6b2198d7c074",
   "metadata": {},
   "outputs": [],
   "source": []
  }
 ],
 "metadata": {
  "kernelspec": {
   "display_name": "Python 3 (ipykernel)",
   "language": "python",
   "name": "python3"
  },
  "language_info": {
   "codemirror_mode": {
    "name": "ipython",
    "version": 3
   },
   "file_extension": ".py",
   "mimetype": "text/x-python",
   "name": "python",
   "nbconvert_exporter": "python",
   "pygments_lexer": "ipython3",
   "version": "3.8.10"
  }
 },
 "nbformat": 4,
 "nbformat_minor": 5
}
